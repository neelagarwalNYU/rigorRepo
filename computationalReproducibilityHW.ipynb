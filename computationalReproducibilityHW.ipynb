{
  "nbformat": 4,
  "nbformat_minor": 0,
  "metadata": {
    "colab": {
      "provenance": [],
      "authorship_tag": "ABX9TyPqpMssJ+C3+6sh6uzE9UGZ",
      "include_colab_link": true
    },
    "kernelspec": {
      "name": "python3",
      "display_name": "Python 3"
    },
    "language_info": {
      "name": "python"
    }
  },
  "cells": [
    {
      "cell_type": "markdown",
      "metadata": {
        "id": "view-in-github",
        "colab_type": "text"
      },
      "source": [
        "<a href=\"https://colab.research.google.com/github/neelagarwalNYU/rigorRepo/blob/main/computationalReproducibilityHW.ipynb\" target=\"_parent\"><img src=\"https://colab.research.google.com/assets/colab-badge.svg\" alt=\"Open In Colab\"/></a>"
      ]
    },
    {
      "cell_type": "code",
      "source": [
        "import datetime\n",
        "\n",
        "# Get the current date and time\n",
        "current_datetime = datetime.datetime.now()\n",
        "\n",
        "# Format the date as a string and print it\n",
        "formatted_date = current_datetime.strftime(\"%Y-%m-%d %H:%M:%S\")\n",
        "print(\"Current date and time:\", formatted_date)"
      ],
      "metadata": {
        "colab": {
          "base_uri": "https://localhost:8080/"
        },
        "id": "OMvCVYj9iByU",
        "outputId": "4939f524-0e79-4a66-9f92-30d699383a62"
      },
      "execution_count": null,
      "outputs": [
        {
          "output_type": "stream",
          "name": "stdout",
          "text": [
            "Current date and time: 2023-11-01 01:39:00\n"
          ]
        }
      ]
    },
    {
      "cell_type": "code",
      "execution_count": null,
      "metadata": {
        "colab": {
          "base_uri": "https://localhost:8080/"
        },
        "id": "hX4sOaLshCtS",
        "outputId": "a0fd67ef-9b0a-4997-bd7d-92b4723029d0"
      },
      "outputs": [
        {
          "output_type": "stream",
          "name": "stdout",
          "text": [
            "Hello Fred!\n",
            "6.0\n"
          ]
        }
      ],
      "source": [
        "print('Hello Fred!')\n",
        "print(30/5)"
      ]
    },
    {
      "cell_type": "markdown",
      "source": [
        "Repositories like GitHub are an excellent tool in our aim for better computational reproducibility. They provide a strucured and organized environment to store and manage code, allowing for features like version control, collaboration and databasing. This ensures that the complete history of analyses are methodically preserved, making it possible to track and reproduce results with accuracy. That being said, they provide the perfect platform to encompass Wilson et al.'s best practices in scientific computing by creating an all-in-one location to store the important information that others may need to reproduce ones' analyses. Naturally, these repositories are not enough, and a personal level of documentation and good practice is required for effective documentation for reproducility, but they provide a framework aiding in the process. With all the data, analysis scripts and explanations in the same place, not only can one streamline their own work with rigorous organization, but it will also make it much simpler for naive eyes to work through it as well."
      ],
      "metadata": {
        "id": "iQ1_rHPqqukL"
      }
    }
  ]
}